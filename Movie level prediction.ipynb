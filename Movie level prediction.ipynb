{
 "cells": [
  {
   "cell_type": "markdown",
   "id": "89418db6",
   "metadata": {},
   "source": [
    "# Предсказание уровня сложности фильма на английском языке"
   ]
  },
  {
   "cell_type": "markdown",
   "id": "698f36a8",
   "metadata": {},
   "source": [
    "## Оглавление\n",
    "1. [Загрузка данных](#paragraph1)    \n",
    "2. [Предобработка данных](#paragraph2)  \n",
    "3. [Исследовательский анализ данных](#paragraph3)  \n",
    "4. [Разработка модели](#paragraph4)  \n",
    "    4.1 [Подготовка набора данных](#subparagraph1)  \n",
    "    4.2 [Векторизация признаков](#subparagraph2)  \n",
    "    4.3 [Обучение и тестирование модели](#subparagraph3)  \n",
    "5. [Сохранение результатов](#paragraph5)  "
   ]
  },
  {
   "cell_type": "code",
   "execution_count": 609,
   "id": "d3ae6539",
   "metadata": {},
   "outputs": [
    {
     "name": "stdout",
     "output_type": "stream",
     "text": [
      "Requirement already satisfied: pysrt in d:\\programm files\\anaconda\\lib\\site-packages (1.1.2)\n",
      "Requirement already satisfied: chardet in d:\\programm files\\anaconda\\lib\\site-packages (from pysrt) (4.0.0)\n"
     ]
    }
   ],
   "source": [
    "! pip install pysrt"
   ]
  },
  {
   "cell_type": "code",
   "execution_count": 610,
   "id": "b2328a96",
   "metadata": {},
   "outputs": [
    {
     "name": "stdout",
     "output_type": "stream",
     "text": [
      "Requirement already satisfied: catboost in d:\\programm files\\anaconda\\lib\\site-packages (1.2)\n",
      "Requirement already satisfied: scipy in d:\\programm files\\anaconda\\lib\\site-packages (from catboost) (1.7.3)\n",
      "Requirement already satisfied: plotly in d:\\programm files\\anaconda\\lib\\site-packages (from catboost) (5.9.0)\n",
      "Requirement already satisfied: six in d:\\programm files\\anaconda\\lib\\site-packages (from catboost) (1.16.0)\n",
      "Requirement already satisfied: matplotlib in d:\\programm files\\anaconda\\lib\\site-packages (from catboost) (3.5.1)\n",
      "Requirement already satisfied: numpy>=1.16.0 in d:\\programm files\\anaconda\\lib\\site-packages (from catboost) (1.21.5)\n",
      "Requirement already satisfied: pandas>=0.24 in d:\\programm files\\anaconda\\lib\\site-packages (from catboost) (1.4.3)\n",
      "Requirement already satisfied: graphviz in d:\\programm files\\anaconda\\lib\\site-packages (from catboost) (0.20.1)\n",
      "Requirement already satisfied: python-dateutil>=2.8.1 in d:\\programm files\\anaconda\\lib\\site-packages (from pandas>=0.24->catboost) (2.8.2)\n",
      "Requirement already satisfied: pytz>=2020.1 in d:\\programm files\\anaconda\\lib\\site-packages (from pandas>=0.24->catboost) (2022.1)\n",
      "Requirement already satisfied: cycler>=0.10 in d:\\programm files\\anaconda\\lib\\site-packages (from matplotlib->catboost) (0.11.0)\n",
      "Requirement already satisfied: fonttools>=4.22.0 in d:\\programm files\\anaconda\\lib\\site-packages (from matplotlib->catboost) (4.25.0)\n",
      "Requirement already satisfied: pyparsing>=2.2.1 in d:\\programm files\\anaconda\\lib\\site-packages (from matplotlib->catboost) (3.0.4)\n",
      "Requirement already satisfied: packaging>=20.0 in d:\\programm files\\anaconda\\lib\\site-packages (from matplotlib->catboost) (21.3)\n",
      "Requirement already satisfied: pillow>=6.2.0 in d:\\programm files\\anaconda\\lib\\site-packages (from matplotlib->catboost) (9.2.0)\n",
      "Requirement already satisfied: kiwisolver>=1.0.1 in d:\\programm files\\anaconda\\lib\\site-packages (from matplotlib->catboost) (1.4.2)\n",
      "Requirement already satisfied: tenacity>=6.2.0 in d:\\programm files\\anaconda\\lib\\site-packages (from plotly->catboost) (8.0.1)\n"
     ]
    }
   ],
   "source": [
    "! pip install catboost"
   ]
  },
  {
   "cell_type": "code",
   "execution_count": 611,
   "id": "e7347dea",
   "metadata": {},
   "outputs": [
    {
     "name": "stderr",
     "output_type": "stream",
     "text": [
      "[nltk_data] Downloading package punkt to C:\\Users\\Дом-\n",
      "[nltk_data]     ПК\\AppData\\Roaming\\nltk_data...\n",
      "[nltk_data]   Package punkt is already up-to-date!\n",
      "[nltk_data] Downloading package omw-1.4 to C:\\Users\\Дом-\n",
      "[nltk_data]     ПК\\AppData\\Roaming\\nltk_data...\n",
      "[nltk_data]   Package omw-1.4 is already up-to-date!\n",
      "[nltk_data] Downloading package wordnet to C:\\Users\\Дом-\n",
      "[nltk_data]     ПК\\AppData\\Roaming\\nltk_data...\n",
      "[nltk_data]   Package wordnet is already up-to-date!\n"
     ]
    }
   ],
   "source": [
    "import pysrt\n",
    "import re\n",
    "import pandas as pd\n",
    "import numpy as np\n",
    "import matplotlib.pyplot as plt\n",
    "import pickle\n",
    "\n",
    "import nltk\n",
    "from nltk.stem import WordNetLemmatizer\n",
    "nltk.download('punkt')\n",
    "nltk.download('omw-1.4')\n",
    "nltk.download('wordnet')\n",
    "\n",
    "from sklearn.feature_extraction.text import TfidfVectorizer\n",
    "from sklearn.model_selection import train_test_split\n",
    "from catboost import CatBoostClassifier\n",
    "from sklearn.metrics import f1_score\n",
    "from sklearn import metrics\n",
    "from sklearn.preprocessing import FunctionTransformer\n",
    "from sklearn.pipeline import make_pipeline, Pipeline"
   ]
  },
  {
   "cell_type": "markdown",
   "id": "93f00457",
   "metadata": {},
   "source": [
    "<a name=\"paragraph1\"></a>"
   ]
  },
  {
   "cell_type": "markdown",
   "id": "c478da20",
   "metadata": {},
   "source": [
    "## 1. Загрузка данных"
   ]
  },
  {
   "cell_type": "code",
   "execution_count": 612,
   "id": "cd256e4f",
   "metadata": {},
   "outputs": [
    {
     "data": {
      "text/html": [
       "<div>\n",
       "<style scoped>\n",
       "    .dataframe tbody tr th:only-of-type {\n",
       "        vertical-align: middle;\n",
       "    }\n",
       "\n",
       "    .dataframe tbody tr th {\n",
       "        vertical-align: top;\n",
       "    }\n",
       "\n",
       "    .dataframe thead th {\n",
       "        text-align: right;\n",
       "    }\n",
       "</style>\n",
       "<table border=\"1\" class=\"dataframe\">\n",
       "  <thead>\n",
       "    <tr style=\"text-align: right;\">\n",
       "      <th></th>\n",
       "      <th>id</th>\n",
       "      <th>Movie</th>\n",
       "      <th>Level</th>\n",
       "    </tr>\n",
       "  </thead>\n",
       "  <tbody>\n",
       "    <tr>\n",
       "      <th>0</th>\n",
       "      <td>0</td>\n",
       "      <td>10_Cloverfield_lane(2016)</td>\n",
       "      <td>B1</td>\n",
       "    </tr>\n",
       "    <tr>\n",
       "      <th>1</th>\n",
       "      <td>1</td>\n",
       "      <td>10_things_I_hate_about_you(1999)</td>\n",
       "      <td>B1</td>\n",
       "    </tr>\n",
       "    <tr>\n",
       "      <th>2</th>\n",
       "      <td>2</td>\n",
       "      <td>A_knights_tale(2001)</td>\n",
       "      <td>B2</td>\n",
       "    </tr>\n",
       "    <tr>\n",
       "      <th>3</th>\n",
       "      <td>3</td>\n",
       "      <td>A_star_is_born(2018)</td>\n",
       "      <td>B2</td>\n",
       "    </tr>\n",
       "    <tr>\n",
       "      <th>4</th>\n",
       "      <td>4</td>\n",
       "      <td>Aladdin(1992)</td>\n",
       "      <td>A2/A2+</td>\n",
       "    </tr>\n",
       "  </tbody>\n",
       "</table>\n",
       "</div>"
      ],
      "text/plain": [
       "   id                             Movie   Level\n",
       "0   0         10_Cloverfield_lane(2016)      B1\n",
       "1   1  10_things_I_hate_about_you(1999)      B1\n",
       "2   2              A_knights_tale(2001)      B2\n",
       "3   3              A_star_is_born(2018)      B2\n",
       "4   4                     Aladdin(1992)  A2/A2+"
      ]
     },
     "execution_count": 612,
     "metadata": {},
     "output_type": "execute_result"
    }
   ],
   "source": [
    "films = pd.read_excel('D:/DS+/Мастерская/English Level/English_level/movies_labels.xlsx')\n",
    "films.head()"
   ]
  },
  {
   "cell_type": "code",
   "execution_count": 613,
   "id": "6b8284a7",
   "metadata": {},
   "outputs": [
    {
     "name": "stdout",
     "output_type": "stream",
     "text": [
      "<class 'pandas.core.frame.DataFrame'>\n",
      "RangeIndex: 511 entries, 0 to 510\n",
      "Data columns (total 3 columns):\n",
      " #   Column  Non-Null Count  Dtype \n",
      "---  ------  --------------  ----- \n",
      " 0   id      511 non-null    int64 \n",
      " 1   Movie   511 non-null    object\n",
      " 2   Level   511 non-null    object\n",
      "dtypes: int64(1), object(2)\n",
      "memory usage: 12.1+ KB\n"
     ]
    }
   ],
   "source": [
    "films.info()"
   ]
  },
  {
   "cell_type": "code",
   "execution_count": 614,
   "id": "070e4898",
   "metadata": {},
   "outputs": [
    {
     "data": {
      "text/plain": [
       "Index(['id', 'Movie', 'Level'], dtype='object')"
      ]
     },
     "execution_count": 614,
     "metadata": {},
     "output_type": "execute_result"
    }
   ],
   "source": [
    "films.columns"
   ]
  },
  {
   "cell_type": "code",
   "execution_count": 615,
   "id": "3309e0e5",
   "metadata": {},
   "outputs": [
    {
     "data": {
      "text/html": [
       "<div>\n",
       "<style scoped>\n",
       "    .dataframe tbody tr th:only-of-type {\n",
       "        vertical-align: middle;\n",
       "    }\n",
       "\n",
       "    .dataframe tbody tr th {\n",
       "        vertical-align: top;\n",
       "    }\n",
       "\n",
       "    .dataframe thead th {\n",
       "        text-align: right;\n",
       "    }\n",
       "</style>\n",
       "<table border=\"1\" class=\"dataframe\">\n",
       "  <thead>\n",
       "    <tr style=\"text-align: right;\">\n",
       "      <th></th>\n",
       "      <th>Movie</th>\n",
       "      <th>Level</th>\n",
       "    </tr>\n",
       "  </thead>\n",
       "  <tbody>\n",
       "    <tr>\n",
       "      <th>0</th>\n",
       "      <td>10_Cloverfield_lane(2016)</td>\n",
       "      <td>B1</td>\n",
       "    </tr>\n",
       "    <tr>\n",
       "      <th>1</th>\n",
       "      <td>10_things_I_hate_about_you(1999)</td>\n",
       "      <td>B1</td>\n",
       "    </tr>\n",
       "    <tr>\n",
       "      <th>2</th>\n",
       "      <td>A_knights_tale(2001)</td>\n",
       "      <td>B2</td>\n",
       "    </tr>\n",
       "    <tr>\n",
       "      <th>3</th>\n",
       "      <td>A_star_is_born(2018)</td>\n",
       "      <td>B2</td>\n",
       "    </tr>\n",
       "    <tr>\n",
       "      <th>4</th>\n",
       "      <td>Aladdin(1992)</td>\n",
       "      <td>A2/A2+</td>\n",
       "    </tr>\n",
       "  </tbody>\n",
       "</table>\n",
       "</div>"
      ],
      "text/plain": [
       "                              Movie   Level\n",
       "0         10_Cloverfield_lane(2016)      B1\n",
       "1  10_things_I_hate_about_you(1999)      B1\n",
       "2              A_knights_tale(2001)      B2\n",
       "3              A_star_is_born(2018)      B2\n",
       "4                     Aladdin(1992)  A2/A2+"
      ]
     },
     "execution_count": 615,
     "metadata": {},
     "output_type": "execute_result"
    }
   ],
   "source": [
    "films = films.drop('id', axis=1)\n",
    "films.head()"
   ]
  },
  {
   "cell_type": "code",
   "execution_count": 616,
   "id": "2812f592",
   "metadata": {},
   "outputs": [],
   "source": [
    "path = 'D:/DS+/Мастерская/English Level/English_level/Subtitles/'"
   ]
  },
  {
   "cell_type": "code",
   "execution_count": 617,
   "id": "a703cae2",
   "metadata": {},
   "outputs": [],
   "source": [
    "for i in range(films.shape[0]):\n",
    "    subs = pysrt.open(path + films['Movie'].values[i] + '.srt', encoding='latin-1')\n",
    "    films.loc[i,'Subtitles'] = subs.text"
   ]
  },
  {
   "cell_type": "code",
   "execution_count": 618,
   "id": "39f8c292",
   "metadata": {},
   "outputs": [
    {
     "data": {
      "text/html": [
       "<div>\n",
       "<style scoped>\n",
       "    .dataframe tbody tr th:only-of-type {\n",
       "        vertical-align: middle;\n",
       "    }\n",
       "\n",
       "    .dataframe tbody tr th {\n",
       "        vertical-align: top;\n",
       "    }\n",
       "\n",
       "    .dataframe thead th {\n",
       "        text-align: right;\n",
       "    }\n",
       "</style>\n",
       "<table border=\"1\" class=\"dataframe\">\n",
       "  <thead>\n",
       "    <tr style=\"text-align: right;\">\n",
       "      <th></th>\n",
       "      <th>Movie</th>\n",
       "      <th>Level</th>\n",
       "      <th>Subtitles</th>\n",
       "    </tr>\n",
       "  </thead>\n",
       "  <tbody>\n",
       "    <tr>\n",
       "      <th>0</th>\n",
       "      <td>10_Cloverfield_lane(2016)</td>\n",
       "      <td>B1</td>\n",
       "      <td>&lt;font color=\"#ffff80\"&gt;&lt;b&gt;Fixed &amp; Synced by boz...</td>\n",
       "    </tr>\n",
       "    <tr>\n",
       "      <th>1</th>\n",
       "      <td>10_things_I_hate_about_you(1999)</td>\n",
       "      <td>B1</td>\n",
       "      <td>Hey!\\nI'll be right with you.\\nSo, Cameron. He...</td>\n",
       "    </tr>\n",
       "    <tr>\n",
       "      <th>2</th>\n",
       "      <td>A_knights_tale(2001)</td>\n",
       "      <td>B2</td>\n",
       "      <td>Resync: Xenzai[NEF]\\nRETAIL\\nShould we help hi...</td>\n",
       "    </tr>\n",
       "    <tr>\n",
       "      <th>3</th>\n",
       "      <td>A_star_is_born(2018)</td>\n",
       "      <td>B2</td>\n",
       "      <td>- &lt;i&gt;&lt;font color=\"#ffffff\"&gt; Synced and correct...</td>\n",
       "    </tr>\n",
       "    <tr>\n",
       "      <th>4</th>\n",
       "      <td>Aladdin(1992)</td>\n",
       "      <td>A2/A2+</td>\n",
       "      <td>&lt;i&gt;Oh, I come from a land\\nFrom a faraway plac...</td>\n",
       "    </tr>\n",
       "    <tr>\n",
       "      <th>5</th>\n",
       "      <td>All_dogs_go_to_heaven(1989)</td>\n",
       "      <td>A2/A2+</td>\n",
       "      <td>CAPTIONING MADE POSSIBLE BY\\nMGM HOME ENTERTAI...</td>\n",
       "    </tr>\n",
       "    <tr>\n",
       "      <th>6</th>\n",
       "      <td>An_American_tail(1986)</td>\n",
       "      <td>A2/A2+</td>\n",
       "      <td>(INDISTINCT CONVERSATION)\\n(ALL LAUGHING)\\nMAM...</td>\n",
       "    </tr>\n",
       "    <tr>\n",
       "      <th>7</th>\n",
       "      <td>Babe(1995)</td>\n",
       "      <td>A2/A2+</td>\n",
       "      <td>This is a tale about&lt;br/&gt;an unprejudiced heart...</td>\n",
       "    </tr>\n",
       "    <tr>\n",
       "      <th>8</th>\n",
       "      <td>Back_to_the_future(1985)</td>\n",
       "      <td>A2/A2+</td>\n",
       "      <td>October is inventory time,\\nso right now, Stat...</td>\n",
       "    </tr>\n",
       "    <tr>\n",
       "      <th>9</th>\n",
       "      <td>Banking_On_Bitcoin(2016)</td>\n",
       "      <td>C1</td>\n",
       "      <td>Downloaded from\\nYTS.MX\\nOfficial YIFY movies ...</td>\n",
       "    </tr>\n",
       "  </tbody>\n",
       "</table>\n",
       "</div>"
      ],
      "text/plain": [
       "                              Movie   Level  \\\n",
       "0         10_Cloverfield_lane(2016)      B1   \n",
       "1  10_things_I_hate_about_you(1999)      B1   \n",
       "2              A_knights_tale(2001)      B2   \n",
       "3              A_star_is_born(2018)      B2   \n",
       "4                     Aladdin(1992)  A2/A2+   \n",
       "5       All_dogs_go_to_heaven(1989)  A2/A2+   \n",
       "6            An_American_tail(1986)  A2/A2+   \n",
       "7                        Babe(1995)  A2/A2+   \n",
       "8          Back_to_the_future(1985)  A2/A2+   \n",
       "9          Banking_On_Bitcoin(2016)      C1   \n",
       "\n",
       "                                           Subtitles  \n",
       "0  <font color=\"#ffff80\"><b>Fixed & Synced by boz...  \n",
       "1  Hey!\\nI'll be right with you.\\nSo, Cameron. He...  \n",
       "2  Resync: Xenzai[NEF]\\nRETAIL\\nShould we help hi...  \n",
       "3  - <i><font color=\"#ffffff\"> Synced and correct...  \n",
       "4  <i>Oh, I come from a land\\nFrom a faraway plac...  \n",
       "5  CAPTIONING MADE POSSIBLE BY\\nMGM HOME ENTERTAI...  \n",
       "6  (INDISTINCT CONVERSATION)\\n(ALL LAUGHING)\\nMAM...  \n",
       "7  This is a tale about<br/>an unprejudiced heart...  \n",
       "8  October is inventory time,\\nso right now, Stat...  \n",
       "9  Downloaded from\\nYTS.MX\\nOfficial YIFY movies ...  "
      ]
     },
     "execution_count": 618,
     "metadata": {},
     "output_type": "execute_result"
    }
   ],
   "source": [
    "films.head(10)"
   ]
  },
  {
   "cell_type": "markdown",
   "id": "c8a34ff3",
   "metadata": {},
   "source": [
    "<a name=\"paragraph2\"></a>"
   ]
  },
  {
   "cell_type": "markdown",
   "id": "5ee88894",
   "metadata": {},
   "source": [
    "## 2. Предобработка"
   ]
  },
  {
   "cell_type": "markdown",
   "id": "497b4468",
   "metadata": {},
   "source": [
    " Для преобразования данных наипишим функцию `preprocessing`, выполняющую несколько этапов:  \n",
    " - очистка текста от тегов, комментариев, знаков препинания и тд.;  \n",
    " - получение списка уникальных слов;  \n",
    " - проведение лемматизации уникальных слов.   \n",
    " Предварительно переименуем название признаков."
   ]
  },
  {
   "cell_type": "code",
   "execution_count": 619,
   "id": "50a93937",
   "metadata": {},
   "outputs": [],
   "source": [
    "films = films.rename(columns={'Movie': 'movie', 'Level': 'level', 'Subtitles': 'subtitles'})"
   ]
  },
  {
   "cell_type": "code",
   "execution_count": 620,
   "id": "e2a3345a",
   "metadata": {},
   "outputs": [],
   "source": [
    "HTML = r'<.*?>' # html тэги меняем на пробел\n",
    "TAG = r'{.*?}' # тэги меняем на пробел\n",
    "COMMENTS = r'[\\(\\[][A-Za-z ]+[\\)\\]]' # комменты в скобках меняем на пробел\n",
    "UPPER = r'[[A-Za-z ]+[\\:\\]]' # указания на того кто говорит (BOBBY:)\n",
    "LETTERS = r'[^a-zA-Z\\'.,!? ]' # все что не буквы меняем на пробел\n",
    "SPACES = r'([ ])\\1+' # повторяющиеся пробелы меняем на один пробел\n",
    "DOTS = r'[\\.]+' # многоточие меняем на точку\n",
    "SYMB = r\"[^\\w\\d'\\s]\" # знаки препинания кроме апострофа"
   ]
  },
  {
   "cell_type": "code",
   "execution_count": 621,
   "id": "e6b724b0",
   "metadata": {},
   "outputs": [],
   "source": [
    "def preprocessing(subs):\n",
    "    subs = subs[1:] # удаляем первый рекламный субтитр\n",
    "    txt = re.sub(HTML, ' ', subs) # html тэги меняем на пробел\n",
    "    txt = re.sub(TAG, ' ', txt) # html тэги меняем на пробел\n",
    "    txt = re.sub(COMMENTS, ' ', txt) # комменты в скобках меняем на пробел\n",
    "    txt = re.sub(UPPER, ' ', txt) # указания на того кто говорит (BOBBY:)\n",
    "    txt = re.sub(LETTERS, ' ', txt) # все что не буквы меняем на пробел\n",
    "    txt = re.sub(DOTS, r'.', txt) # многоточие меняем на точку\n",
    "    txt = re.sub(SPACES, r'\\1', txt) # повторяющиеся пробелы меняем на один пробел\n",
    "    txt = re.sub(SYMB, '', txt) # знаки препинания кроме апострофа на пустую строку\n",
    "    txt = re.sub('www', '', txt) # кое-где остаётся www, то же меняем на пустую строку\n",
    "    txt = txt.lstrip() # обрезка пробелов слева\n",
    "    txt = txt.encode('ascii', 'ignore').decode() # удаляем все что не ascii символы  \n",
    "    txt = txt.lower() # текст в нижний регистр\n",
    "    txt = txt.replace('\"', '')\n",
    "    \n",
    "#Получаем список уникальных слов:\n",
    "    txt = txt.split()\n",
    "    txt_unique = ' '.join(list(set(txt)))\n",
    "\n",
    "#Лемматизация уникальных слов:\n",
    "    lemmatizer = WordNetLemmatizer()\n",
    "    word_list = nltk.word_tokenize(txt_unique)\n",
    "    lemmatized_txt = ' '.join([lemmatizer.lemmatize(w) for w in word_list])\n",
    "    \n",
    "    return lemmatized_txt "
   ]
  },
  {
   "cell_type": "code",
   "execution_count": 622,
   "id": "15039f1e",
   "metadata": {},
   "outputs": [],
   "source": [
    "films['words_lemm'] = films['subtitles'].apply(preprocessing)"
   ]
  },
  {
   "cell_type": "code",
   "execution_count": 623,
   "id": "4a15e31b",
   "metadata": {},
   "outputs": [
    {
     "data": {
      "text/html": [
       "<div>\n",
       "<style scoped>\n",
       "    .dataframe tbody tr th:only-of-type {\n",
       "        vertical-align: middle;\n",
       "    }\n",
       "\n",
       "    .dataframe tbody tr th {\n",
       "        vertical-align: top;\n",
       "    }\n",
       "\n",
       "    .dataframe thead th {\n",
       "        text-align: right;\n",
       "    }\n",
       "</style>\n",
       "<table border=\"1\" class=\"dataframe\">\n",
       "  <thead>\n",
       "    <tr style=\"text-align: right;\">\n",
       "      <th></th>\n",
       "      <th>movie</th>\n",
       "      <th>level</th>\n",
       "      <th>subtitles</th>\n",
       "      <th>words_lemm</th>\n",
       "    </tr>\n",
       "  </thead>\n",
       "  <tbody>\n",
       "    <tr>\n",
       "      <th>0</th>\n",
       "      <td>10_Cloverfield_lane(2016)</td>\n",
       "      <td>B1</td>\n",
       "      <td>&lt;font color=\"#ffff80\"&gt;&lt;b&gt;Fixed &amp; Synced by boz...</td>\n",
       "      <td>their be generosity r spent hardware walk brig...</td>\n",
       "    </tr>\n",
       "    <tr>\n",
       "      <th>1</th>\n",
       "      <td>10_things_I_hate_about_you(1999)</td>\n",
       "      <td>B1</td>\n",
       "      <td>Hey!\\nI'll be right with you.\\nSo, Cameron. He...</td>\n",
       "      <td>disgusting spent blind friend maybe absolutely...</td>\n",
       "    </tr>\n",
       "    <tr>\n",
       "      <th>2</th>\n",
       "      <td>A_knights_tale(2001)</td>\n",
       "      <td>B2</td>\n",
       "      <td>Resync: Xenzai[NEF]\\nRETAIL\\nShould we help hi...</td>\n",
       "      <td>spent blind chaucer maybe thousand riding abso...</td>\n",
       "    </tr>\n",
       "    <tr>\n",
       "      <th>3</th>\n",
       "      <td>A_star_is_born(2018)</td>\n",
       "      <td>B2</td>\n",
       "      <td>- &lt;i&gt;&lt;font color=\"#ffffff\"&gt; Synced and correct...</td>\n",
       "      <td>friend history maybe news unreal hope gosh are...</td>\n",
       "    </tr>\n",
       "    <tr>\n",
       "      <th>4</th>\n",
       "      <td>Aladdin(1992)</td>\n",
       "      <td>A2/A2+</td>\n",
       "      <td>&lt;i&gt;Oh, I come from a land\\nFrom a faraway plac...</td>\n",
       "      <td>disgusting friend history maybe quos riding al...</td>\n",
       "    </tr>\n",
       "  </tbody>\n",
       "</table>\n",
       "</div>"
      ],
      "text/plain": [
       "                              movie   level  \\\n",
       "0         10_Cloverfield_lane(2016)      B1   \n",
       "1  10_things_I_hate_about_you(1999)      B1   \n",
       "2              A_knights_tale(2001)      B2   \n",
       "3              A_star_is_born(2018)      B2   \n",
       "4                     Aladdin(1992)  A2/A2+   \n",
       "\n",
       "                                           subtitles  \\\n",
       "0  <font color=\"#ffff80\"><b>Fixed & Synced by boz...   \n",
       "1  Hey!\\nI'll be right with you.\\nSo, Cameron. He...   \n",
       "2  Resync: Xenzai[NEF]\\nRETAIL\\nShould we help hi...   \n",
       "3  - <i><font color=\"#ffffff\"> Synced and correct...   \n",
       "4  <i>Oh, I come from a land\\nFrom a faraway plac...   \n",
       "\n",
       "                                          words_lemm  \n",
       "0  their be generosity r spent hardware walk brig...  \n",
       "1  disgusting spent blind friend maybe absolutely...  \n",
       "2  spent blind chaucer maybe thousand riding abso...  \n",
       "3  friend history maybe news unreal hope gosh are...  \n",
       "4  disgusting friend history maybe quos riding al...  "
      ]
     },
     "execution_count": 623,
     "metadata": {},
     "output_type": "execute_result"
    }
   ],
   "source": [
    "films.head()"
   ]
  },
  {
   "cell_type": "markdown",
   "id": "c13754fc",
   "metadata": {},
   "source": [
    "<a name=\"paragraph3\"></a>"
   ]
  },
  {
   "cell_type": "markdown",
   "id": "2ff705be",
   "metadata": {},
   "source": [
    "## 3. Исследовательский анализ данных"
   ]
  },
  {
   "cell_type": "markdown",
   "id": "1fcb2232",
   "metadata": {},
   "source": [
    "Проверим целевой признак:"
   ]
  },
  {
   "cell_type": "code",
   "execution_count": 624,
   "id": "ce778747",
   "metadata": {},
   "outputs": [
    {
     "data": {
      "text/plain": [
       "array(['B1', 'B2', 'A2/A2+', 'C1', 'B1, B2', 'A2/A2+, B1', 'A2', 'A1',\n",
       "       'B2, C1'], dtype=object)"
      ]
     },
     "execution_count": 624,
     "metadata": {},
     "output_type": "execute_result"
    }
   ],
   "source": [
    "films['level'].unique()"
   ]
  },
  {
   "cell_type": "markdown",
   "id": "7bb86ef9",
   "metadata": {},
   "source": [
    "Проведем следующие замены:  \n",
    "- Уровень 'A2/A2+' заменим на 'А2';  \n",
    "- Уровень 'A2/A2+, B1' заменим на 'B1';  \n",
    "- Уровень 'B1, B2' заменим на 'B2';\n",
    "- Уровень 'B2, С1' заменим на 'С1';"
   ]
  },
  {
   "cell_type": "code",
   "execution_count": 625,
   "id": "00737e43",
   "metadata": {},
   "outputs": [],
   "source": [
    "films['level'] = films['level'].replace({'A2/A2+': 'A2', 'A2/A2+, B1': 'B1', 'B1, B2': 'B2', 'B2, C1': 'C1'})"
   ]
  },
  {
   "cell_type": "code",
   "execution_count": 626,
   "id": "bd25a5ed",
   "metadata": {},
   "outputs": [
    {
     "data": {
      "text/plain": [
       "array(['B1', 'B2', 'A2', 'C1', 'A1'], dtype=object)"
      ]
     },
     "execution_count": 626,
     "metadata": {},
     "output_type": "execute_result"
    }
   ],
   "source": [
    "films['level'].unique()"
   ]
  },
  {
   "cell_type": "code",
   "execution_count": 627,
   "id": "2a696452",
   "metadata": {},
   "outputs": [
    {
     "data": {
      "text/plain": [
       "A2    172\n",
       "B2    137\n",
       "B1     89\n",
       "C1     70\n",
       "A1     43\n",
       "Name: level, dtype: int64"
      ]
     },
     "execution_count": 627,
     "metadata": {},
     "output_type": "execute_result"
    }
   ],
   "source": [
    "films['level'].value_counts()"
   ]
  },
  {
   "cell_type": "code",
   "execution_count": 628,
   "id": "ebcaa354",
   "metadata": {},
   "outputs": [
    {
     "data": {
      "image/png": "[encoded data removed]",
      "text/plain": [
       "<Figure size 432x288 with 1 Axes>"
      ]
     },
     "metadata": {
      "needs_background": "light"
     },
     "output_type": "display_data"
    }
   ],
   "source": [
    "films['level'].hist()\n",
    "plt.show()"
   ]
  },
  {
   "cell_type": "markdown",
   "id": "89ab11db",
   "metadata": {},
   "source": [
    "**Вывод:** присутствует дисбаланс классов. Отсутствуют класс С2"
   ]
  },
  {
   "cell_type": "markdown",
   "id": "bde7ab5d",
   "metadata": {},
   "source": [
    "Проверим количество уникальных слов по уровням:"
   ]
  },
  {
   "cell_type": "code",
   "execution_count": 629,
   "id": "ffa91840",
   "metadata": {},
   "outputs": [],
   "source": [
    "films['words_unique_num'] = films['words_lemm'].str.count(' ') + 1"
   ]
  },
  {
   "cell_type": "code",
   "execution_count": 630,
   "id": "b7604946",
   "metadata": {},
   "outputs": [
    {
     "data": {
      "image/png": "[encoded data removed]",
      "text/plain": [
       "<Figure size 864x432 with 1 Axes>"
      ]
     },
     "metadata": {
      "needs_background": "light"
     },
     "output_type": "display_data"
    }
   ],
   "source": [
    "films.groupby('level')['words_unique_num'].agg('mean').plot(y=['words_unique_num'], figsize=(12,6), kind='bar')\n",
    "plt.title('Зависимость количества уникальных слов от уровня сложности фильма')\n",
    "plt.xlabel('Уровни')\n",
    "plt.ylabel('Количество уникальных слов')\n",
    "plt.show()"
   ]
  },
  {
   "cell_type": "markdown",
   "id": "2f8d11b4",
   "metadata": {},
   "source": [
    "**Вывод:** Для уровней А1 и А2 количество уникальных слов значительно ниже, чем для уровней В1, В2 и С1."
   ]
  },
  {
   "cell_type": "markdown",
   "id": "27721cf9",
   "metadata": {},
   "source": [
    "<a name=\"paragraph4\"></a>"
   ]
  },
  {
   "cell_type": "markdown",
   "id": "55235e73",
   "metadata": {},
   "source": [
    "## 4. Обучение модели"
   ]
  },
  {
   "cell_type": "markdown",
   "id": "69b35e9e",
   "metadata": {},
   "source": [
    "Для прогнозирования сложности фильма будем использовать модель по алгоритму градиентного бустинга из библиотеки Catboost. Для оценки качества предсказания используем метрику F1. Предварительно подготовим наборы данных и проведем векторизацию с помощью инструмента Tf-idf."
   ]
  },
  {
   "cell_type": "markdown",
   "id": "f6a8521d",
   "metadata": {},
   "source": [
    "<a name=\"subparagraph1\"></a>"
   ]
  },
  {
   "cell_type": "markdown",
   "id": "97b40e81",
   "metadata": {},
   "source": [
    "### 4.1 Подготовка набора данных"
   ]
  },
  {
   "cell_type": "code",
   "execution_count": 631,
   "id": "07730c75",
   "metadata": {},
   "outputs": [],
   "source": [
    "X = films['words_lemm']\n",
    "y = films['level']"
   ]
  },
  {
   "cell_type": "code",
   "execution_count": 632,
   "id": "45fa79ef",
   "metadata": {},
   "outputs": [],
   "source": [
    "RANDOM_STATE = 25"
   ]
  },
  {
   "cell_type": "code",
   "execution_count": 633,
   "id": "3b879d22",
   "metadata": {},
   "outputs": [
    {
     "name": "stdout",
     "output_type": "stream",
     "text": [
      "<class 'pandas.core.series.Series'>\n",
      "Int64Index: 357 entries, 273 to 132\n",
      "Series name: words_lemm\n",
      "Non-Null Count  Dtype \n",
      "--------------  ----- \n",
      "357 non-null    object\n",
      "dtypes: object(1)\n",
      "memory usage: 5.6+ KB\n"
     ]
    }
   ],
   "source": [
    "X_train, X_test, y_train, y_test = train_test_split(X, y, test_size=0.3, random_state=RANDOM_STATE)\n",
    "X_train.info()"
   ]
  },
  {
   "cell_type": "markdown",
   "id": "35dc7908",
   "metadata": {},
   "source": [
    "Проведем сброс индексов в выборках:"
   ]
  },
  {
   "cell_type": "code",
   "execution_count": 634,
   "id": "885f9523",
   "metadata": {},
   "outputs": [],
   "source": [
    "X_train = X_train.reset_index(drop=True)\n",
    "y_train = y_train.reset_index(drop=True)\n",
    "\n",
    "X_test = X_test.reset_index(drop=True)\n",
    "y_test = y_test.reset_index(drop=True)"
   ]
  },
  {
   "cell_type": "code",
   "execution_count": 635,
   "id": "8164d98b",
   "metadata": {},
   "outputs": [
    {
     "name": "stdout",
     "output_type": "stream",
     "text": [
      "<class 'pandas.core.series.Series'>\n",
      "RangeIndex: 357 entries, 0 to 356\n",
      "Series name: words_lemm\n",
      "Non-Null Count  Dtype \n",
      "--------------  ----- \n",
      "357 non-null    object\n",
      "dtypes: object(1)\n",
      "memory usage: 2.9+ KB\n"
     ]
    }
   ],
   "source": [
    "X_train.info()"
   ]
  },
  {
   "cell_type": "markdown",
   "id": "52dd8d40",
   "metadata": {},
   "source": [
    "<a name=\"subparagraph2\"></a>"
   ]
  },
  {
   "cell_type": "markdown",
   "id": "2a422519",
   "metadata": {},
   "source": [
    "### 4.2 Векторизация признаков"
   ]
  },
  {
   "cell_type": "code",
   "execution_count": 636,
   "id": "73a64b40",
   "metadata": {},
   "outputs": [],
   "source": [
    "vectorizer = TfidfVectorizer(sublinear_tf=True, stop_words=\"english\")"
   ]
  },
  {
   "cell_type": "code",
   "execution_count": 637,
   "id": "760892b0",
   "metadata": {},
   "outputs": [],
   "source": [
    "values_train = vectorizer.fit_transform(X_train)"
   ]
  },
  {
   "cell_type": "code",
   "execution_count": 640,
   "id": "f530ca0d",
   "metadata": {},
   "outputs": [],
   "source": [
    "X_train = pd.DataFrame(values_train.toarray(), columns=vectorizer.get_feature_names_out())"
   ]
  },
  {
   "cell_type": "code",
   "execution_count": 641,
   "id": "e72631ca",
   "metadata": {},
   "outputs": [
    {
     "data": {
      "text/plain": [
       "(357, 32840)"
      ]
     },
     "execution_count": 641,
     "metadata": {},
     "output_type": "execute_result"
    }
   ],
   "source": [
    "X_train.shape"
   ]
  },
  {
   "cell_type": "markdown",
   "id": "29779ee0",
   "metadata": {},
   "source": [
    "Проведем преобразование тестовой выборки:"
   ]
  },
  {
   "cell_type": "code",
   "execution_count": 642,
   "id": "4b7f59ed",
   "metadata": {},
   "outputs": [],
   "source": [
    "values_test = vectorizer.transform(X_test)"
   ]
  },
  {
   "cell_type": "code",
   "execution_count": 643,
   "id": "8492407a",
   "metadata": {},
   "outputs": [],
   "source": [
    "X_test = pd.DataFrame(values_test.toarray(), columns=vectorizer.get_feature_names_out())"
   ]
  },
  {
   "cell_type": "code",
   "execution_count": 645,
   "id": "01eac121",
   "metadata": {},
   "outputs": [
    {
     "data": {
      "text/plain": [
       "(154, 32840)"
      ]
     },
     "execution_count": 645,
     "metadata": {},
     "output_type": "execute_result"
    }
   ],
   "source": [
    "X_test.shape"
   ]
  },
  {
   "cell_type": "markdown",
   "id": "47ed1c88",
   "metadata": {},
   "source": [
    "Удалим из итоговых наборов данных исходный текстовый признак `words_lemm`:"
   ]
  },
  {
   "cell_type": "markdown",
   "id": "1dac348e",
   "metadata": {},
   "source": [
    "<a name=\"subparagraph3\"></a>"
   ]
  },
  {
   "cell_type": "markdown",
   "id": "038340f3",
   "metadata": {},
   "source": [
    "### 3.3. Обучение модели и тестирование модели"
   ]
  },
  {
   "cell_type": "code",
   "execution_count": 648,
   "id": "04427803",
   "metadata": {},
   "outputs": [
    {
     "name": "stdout",
     "output_type": "stream",
     "text": [
      "Learning rate set to 0.373003\n",
      "0:\tlearn: 0.5216093\ttotal: 6.85s\tremaining: 17m\n",
      "10:\tlearn: 0.7554926\ttotal: 29.3s\tremaining: 6m 9s\n",
      "20:\tlearn: 0.8872410\ttotal: 51.9s\tremaining: 5m 19s\n",
      "30:\tlearn: 0.9718930\ttotal: 1m 17s\tremaining: 4m 58s\n",
      "40:\tlearn: 0.9887797\ttotal: 1m 41s\tremaining: 4m 28s\n",
      "50:\tlearn: 1.0000000\ttotal: 2m 3s\tremaining: 4m\n",
      "60:\tlearn: 1.0000000\ttotal: 2m 27s\tremaining: 3m 34s\n",
      "70:\tlearn: 1.0000000\ttotal: 2m 49s\tremaining: 3m 8s\n",
      "80:\tlearn: 1.0000000\ttotal: 3m 13s\tremaining: 2m 44s\n",
      "90:\tlearn: 1.0000000\ttotal: 3m 35s\tremaining: 2m 19s\n",
      "100:\tlearn: 1.0000000\ttotal: 3m 59s\tremaining: 1m 56s\n",
      "110:\tlearn: 1.0000000\ttotal: 4m 22s\tremaining: 1m 32s\n",
      "120:\tlearn: 1.0000000\ttotal: 4m 45s\tremaining: 1m 8s\n",
      "130:\tlearn: 1.0000000\ttotal: 5m 7s\tremaining: 44.7s\n",
      "140:\tlearn: 1.0000000\ttotal: 5m 30s\tremaining: 21.1s\n",
      "149:\tlearn: 1.0000000\ttotal: 5m 51s\tremaining: 0us\n"
     ]
    },
    {
     "data": {
      "text/plain": [
       "<catboost.core.CatBoostClassifier at 0x2a5a38fa970>"
      ]
     },
     "execution_count": 648,
     "metadata": {},
     "output_type": "execute_result"
    }
   ],
   "source": [
    "model = CatBoostClassifier(iterations=150, loss_function='MultiClass', eval_metric='TotalF1')\n",
    "model.fit(X_train, y_train, verbose=10)"
   ]
  },
  {
   "cell_type": "code",
   "execution_count": 649,
   "id": "d3755230",
   "metadata": {},
   "outputs": [],
   "source": [
    "y_pred = model.predict(X_test)"
   ]
  },
  {
   "cell_type": "code",
   "execution_count": 650,
   "id": "80cd2159",
   "metadata": {},
   "outputs": [
    {
     "data": {
      "text/plain": [
       "0.6746192613395368"
      ]
     },
     "execution_count": 650,
     "metadata": {},
     "output_type": "execute_result"
    }
   ],
   "source": [
    "f1 = f1_score(y_test, y_pred, average='weighted')\n",
    "f1"
   ]
  },
  {
   "cell_type": "markdown",
   "id": "b386564f",
   "metadata": {},
   "source": [
    "<a name=\"paragraph5\"></a>"
   ]
  },
  {
   "cell_type": "markdown",
   "id": "563f37aa",
   "metadata": {},
   "source": [
    "## 5. Сохранение результатов"
   ]
  },
  {
   "cell_type": "code",
   "execution_count": 651,
   "id": "4fcde964",
   "metadata": {},
   "outputs": [
    {
     "name": "stdout",
     "output_type": "stream",
     "text": [
      "Модель сохранена\n"
     ]
    }
   ],
   "source": [
    "model.save_model('D:/DS+/Мастерская/English Level/catboost_model.bin')\n",
    "print('Модель сохранена')"
   ]
  },
  {
   "cell_type": "code",
   "execution_count": 652,
   "id": "0ec471bf",
   "metadata": {},
   "outputs": [
    {
     "name": "stdout",
     "output_type": "stream",
     "text": [
      "Модель сохранена\n"
     ]
    }
   ],
   "source": [
    "pickle.dump(vectorizer, open('D:/DS+/Мастерская/English Level/vectorizer.pcl', \"wb\"))\n",
    "print('Модель сохранена')"
   ]
  }
 ],
 "metadata": {
  "kernelspec": {
   "display_name": "Python 3 (ipykernel)",
   "language": "python",
   "name": "python3"
  },
  "language_info": {
   "codemirror_mode": {
    "name": "ipython",
    "version": 3
   },
   "file_extension": ".py",
   "mimetype": "text/x-python",
   "name": "python",
   "nbconvert_exporter": "python",
   "pygments_lexer": "ipython3",
   "version": "3.9.12"
  }
 },
 "nbformat": 4,
 "nbformat_minor": 5
}
